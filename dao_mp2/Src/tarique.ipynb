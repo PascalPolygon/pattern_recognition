{
 "cells": [
  {
   "cell_type": "code",
   "execution_count": 1,
   "metadata": {},
   "outputs": [],
   "source": [
    "from __future__ import division\n",
    "import numpy as np\n",
    "import decimal\n",
    "import pandas as pd\n",
    "import matplotlib.axis as ax\n",
    "import matplotlib.pyplot as plt\n",
    "from matplotlib.colors import ListedColormap\n",
    "import scipy.stats \n",
    "import scipy.spatial as sp\n",
    "import math\n",
    "from scipy.special import expit\n",
    "\n",
    "#Extracting datasets\n",
    "file = pd.read_csv(r'C:\\Users\\gacevedo2016\\Downloads\\Titanic-MP2.csv') \n",
    "data = file.to_numpy()\n",
    "\n",
    "#one-hot encoding sex, (female = [1,0], male = [0,1])\n",
    "sex = data[:,4]\n",
    "ohsex = np.zeros((891,2))\n",
    "for i in range(len(sex)):\n",
    "    if sex[i] == 'female':\n",
    "        ohsex[i] = [1, 0]\n",
    "    elif sex[i] == 'male':\n",
    "        ohsex[i] = [0, 1]\n",
    "    else:\n",
    "        ohsex[i] = ['nan', 'nan'] \n",
    "\n",
    "#one-hot encoding pclass, (1 = [1,0,0], 2 = [0,1,0], 3=[0,0,1])\n",
    "pclass = data[:,2]\n",
    "ohpclass = np.zeros((891,3))\n",
    "for i in range(len(pclass)):\n",
    "    if pclass[i] == 1:\n",
    "        ohpclass[i] = [1, 0, 0]\n",
    "    elif pclass[i] == 2:\n",
    "        ohpclass[i] = [0, 1, 0]\n",
    "    elif pclass[i] == 3:\n",
    "        ohpclass[i] = [0, 0, 1]\n",
    "    else:\n",
    "        ohpclass[i] = ['nan', 'nan', 'nan'] \n",
    "\n",
    "#one-hot encoding pclass, (C = [1,0,0], S = [0,1,0], Q=[0,0,1])\n",
    "emb = data[:,11]\n",
    "ohemb = np.zeros((891,3))\n",
    "for i in range(len(emb)):\n",
    "    if emb[i] == 'C':\n",
    "        ohemb[i] = [1, 0, 0]\n",
    "    elif emb[i] == 'S':\n",
    "        ohemb[i] = [0, 1, 0]\n",
    "    elif emb[i] == 'Q':\n",
    "        ohemb[i] = [0, 0, 1]\n",
    "    else:\n",
    "        ohemb[i] = ['nan','nan','nan']\n",
    "\n",
    "#Removing passengerId, Name, Ticket, Cabin\n",
    "dataset = np.array((data[:,1], ohpclass[:,0], ohpclass[:,1], ohpclass[:,2], ohsex[:,0], ohsex[:,1], data[:,5], data[:,6], data[:,7], data[:,9], ohemb[:,0], ohemb[:,1], ohemb[:,2])).T \n",
    "\n",
    "#Removing rows with missing features \n",
    "dset = []\n",
    "missing = []\n",
    "for i in range(len(dataset)):\n",
    "    if any(pd.isnull(dataset[i])):\n",
    "        missing.append(dataset[i])\n",
    "    else:\n",
    "        dset.append(dataset[i])\n",
    "missing = np.array(missing)\n",
    "dset = np.array(dset)\n",
    "\n",
    "#Training data set N = 250, validation and testing N = 231\n",
    "dtr = dset[0:250, :]\n",
    "dval = dset[250:481, :]\n",
    "dtest = dset[481:712, :]\n",
    "\n",
    "#Xtr (250X(12+1)) and ytrain (250X1)\n",
    "#Xval (231X(12+1)) and yval (231X1)\n",
    "#Xtest (231X(12+1)) and ytest (231X1)\n",
    "#X[:,0:3] = pclass (0, 1, 2)\n",
    "#X[:,3:5] = sex (3, 4)\n",
    "#X[:,5:6] = age (5)\n",
    "#X[:,6:7] = Sibsp (6)\n",
    "#X[:,7:8] = Parch (7)\n",
    "#X[:,8:9] = Fare (8)\n",
    "#X[:,9:12] = Embark (9, 10, 11)\n",
    "#D = 12\n",
    "\n",
    "Xtr = np.concatenate((dtr[:, 1:13], np.ones((250,1))), axis=-1) #250X13\n",
    "ytr = dtr[:,0:1] #250X1\n",
    "\n",
    "Xval = np.concatenate((dval[:, 1:13], np.ones((231,1))), axis=-1) #231X13\n",
    "yval = dval[:,0:1] #231x1\n",
    "\n",
    "Xtest = np.concatenate((dtest[:, 1:13], np.ones((231,1))), axis=-1) #231X13\n",
    "ytest = dtest[:,0:1] #231x1"
   ]
  },
  {
   "cell_type": "markdown",
   "metadata": {},
   "source": [
    "#### Data summary\n",
    "Now, we have D = 7 and total N = 712\n",
    "\n",
    "* pclass $ \\in R^3 \\to $ one-hot encoded  \n",
    "    * [1, 0, 0] = 1\n",
    "    * [0, 1, 0] = 2\n",
    "    * [0, 0, 1] = 3\n",
    "* sex $ \\in R^2  \\to $ one-hot encoded \n",
    "    * [1, 0] = F\n",
    "    * [0, 1] = M\n",
    "* age \n",
    "* Sibsp \n",
    "* parch \n",
    "* fare \n",
    "* embark $ \\in R^3  \\to $ one-hot encoded \n",
    "    * [1, 0, 0] = C\n",
    "    * [0, 1, 0] = S\n",
    "    * [0, 0, 1] = Q\n",
    "\n",
    "For training, we have N = 250\n",
    "\n",
    "For validation and testing, we have N = 231"
   ]
  },
  {
   "cell_type": "markdown",
   "metadata": {},
   "source": [
    "Computing the softmax(x) "
   ]
  },
  {
   "cell_type": "code",
   "execution_count": 2,
   "metadata": {},
   "outputs": [],
   "source": [
    "#x E R^D\n",
    "#w E R^(DXC)\n",
    "#h E R^C\n",
    "#s E R\n",
    "def modsoftmax(x, w):\n",
    "    wt = w.T   #2x13\n",
    "    h = np.dot(wt,x)  #2x1\n",
    "    h = h.astype('float64')\n",
    "    mexp = np.exp(h - np.max(h))\n",
    "    den = np.sum(mexp)\n",
    "    s = (mexp/den)\n",
    "    return s  #2x1"
   ]
  },
  {
   "cell_type": "markdown",
   "metadata": {},
   "source": [
    "Computing CE loss(x) and ACE(X)"
   ]
  },
  {
   "cell_type": "code",
   "execution_count": 3,
   "metadata": {},
   "outputs": [],
   "source": [
    "#s - s(x) - Cx1\n",
    "#y - one-hot for x label - CX1\n",
    "#loss - (-log(Sy))\n",
    "def CEloss (s, y):\n",
    "    logs = -np.log(s)\n",
    "    loss = np.dot(y.T, logs)\n",
    "    return loss\n",
    "\n",
    "#S - [s(x)^T] - R^NxC\n",
    "#T - [t(x)^T] - R^NxC\n",
    "def ACEloss (S, T, N):\n",
    "    ACEl = 0\n",
    "    for i in range(N):\n",
    "        loss = CEloss(S.T[:,i:i+1], T.T[:,i:i+1])\n",
    "        ACEl = ACEl + loss\n",
    "    ACEloss = (1/N)*ACEl\n",
    "    return ACEloss"
   ]
  },
  {
   "cell_type": "markdown",
   "metadata": {},
   "source": [
    "One-Hot Encoding for labels (y)"
   ]
  },
  {
   "cell_type": "code",
   "execution_count": 4,
   "metadata": {},
   "outputs": [],
   "source": [
    "def onehot (c, labels, y):\n",
    "    T = np.zeros((len(y),c))\n",
    "    lb = np.array(labels)\n",
    "    t = np.zeros((c,c))\n",
    "    \n",
    "    for i in range(c):\n",
    "        t[i,i] = 1\n",
    "    \n",
    "    for i in range(len(y)):\n",
    "        for j in range(c):\n",
    "            if y [i] == lb [j]:\n",
    "                T[i] = t[j]\n",
    "    for i in range(c):\n",
    "        print('Class',lb[i], 'is', t[i])\n",
    "    return T,t"
   ]
  },
  {
   "cell_type": "markdown",
   "metadata": {},
   "source": [
    "Computing Gradient Descent for MNR "
   ]
  },
  {
   "cell_type": "code",
   "execution_count": 5,
   "metadata": {},
   "outputs": [],
   "source": [
    "def gdCE (X, T, N, D, C, rate = 0.1, iterations=1000):\n",
    "    w = np.zeros((D,C))\n",
    "    S = np.empty((N,C))\n",
    "    ACE = np.empty((iterations,1))\n",
    "    for i in range(iterations):\n",
    "        for j in range(N):\n",
    "            s = modsoftmax(X.T[:,j:j+1],w)\n",
    "            S[j] = s.T\n",
    "        ACE[i] = ACEloss(S, T, N)\n",
    "        dACE = (1/N)*(X.T@(S-T))\n",
    "        rdACE = (rate)*dACE\n",
    "        wnew = w - rdACE\n",
    "        Whist = np.vstack((w, wnew))\n",
    "        w = wnew\n",
    "    print('Done')\n",
    "    return w, ACE\n"
   ]
  },
  {
   "cell_type": "code",
   "execution_count": 103,
   "metadata": {
    "scrolled": true
   },
   "outputs": [
    {
     "name": "stdout",
     "output_type": "stream",
     "text": [
      "Class 1 is [1. 0.]\n",
      "Class 0 is [0. 1.]\n"
     ]
    }
   ],
   "source": [
    "Ttr, t = onehot(2,(1,0),ytr)"
   ]
  },
  {
   "cell_type": "code",
   "execution_count": 131,
   "metadata": {},
   "outputs": [
    {
     "data": {
      "text/plain": [
       "Text(0.5, 1.0, 'Rate: 0.1, Iterations: 10,000')"
      ]
     },
     "execution_count": 131,
     "metadata": {},
     "output_type": "execute_result"
    },
    {
     "data": {
      "image/png": "[encoded data removed]",
      "text/plain": [
       "<Figure size 432x288 with 1 Axes>"
      ]
     },
     "metadata": {
      "needs_background": "light"
     },
     "output_type": "display_data"
    }
   ],
   "source": [
    "#w10, ACE10 = gdCE (Xtr, Ttr, 250, 13, 2, rate = 0.1, iterations=10000)\n",
    "itera10 = np.arange(0,10000,1)\n",
    "plt.scatter(itera10, ACE10, linewidths=0.5, marker='.')\n",
    "plt.xlabel('Number of Iterations')\n",
    "plt.ylabel('Average CE')\n",
    "plt.title('Rate: 0.1, Iterations: 10,000')"
   ]
  },
  {
   "cell_type": "code",
   "execution_count": 142,
   "metadata": {},
   "outputs": [
    {
     "name": "stderr",
     "output_type": "stream",
     "text": [
      "<ipython-input-3-a85ced2a1adc>:5: RuntimeWarning: divide by zero encountered in log\n",
      "  logs = -np.log(s)\n"
     ]
    },
    {
     "name": "stdout",
     "output_type": "stream",
     "text": [
      "Done\n"
     ]
    },
    {
     "data": {
      "text/plain": [
       "Text(0.5, 1.0, 'Rate: 0.1, Iterations: 50,000')"
      ]
     },
     "execution_count": 142,
     "metadata": {},
     "output_type": "execute_result"
    },
    {
     "data": {
      "image/png": "[encoded data removed]",
      "text/plain": [
       "<Figure size 432x288 with 1 Axes>"
      ]
     },
     "metadata": {
      "needs_background": "light"
     },
     "output_type": "display_data"
    }
   ],
   "source": [
    "w50, ACE50 = gdCE (Xtr, Ttr, 250, 13, 2, rate = 0.1, iterations=50000)\n",
    "itera50 = np.arange(0,50000,1)\n",
    "plt.scatter(itera50, ACE50, linewidths=0.5, marker='.')\n",
    "plt.xlabel('Number of Iterations')\n",
    "plt.ylabel('Average CE')\n",
    "plt.title('Rate: 0.1, Iterations: 50,000')"
   ]
  },
  {
   "cell_type": "code",
   "execution_count": 133,
   "metadata": {},
   "outputs": [
    {
     "data": {
      "text/plain": [
       "Text(0.5, 1.0, 'Rate: 0.03, Iterations: 10,000')"
      ]
     },
     "execution_count": 133,
     "metadata": {},
     "output_type": "execute_result"
    },
    {
     "data": {
      "image/png": "[encoded data removed]",
      "text/plain": [
       "<Figure size 432x288 with 1 Axes>"
      ]
     },
     "metadata": {
      "needs_background": "light"
     },
     "output_type": "display_data"
    }
   ],
   "source": [
    "#w0, ACE0 = gdCE (Xtr, Ttr, 250, 13, 2, rate = 0.03, iterations=10000)\n",
    "itera0 = np.arange(0,10000,1)\n",
    "plt.scatter(itera0, ACE0, linewidths=0.5, marker='.')\n",
    "plt.xlabel('Number of Iterations')\n",
    "plt.ylabel('Average CE')\n",
    "plt.title('Rate: 0.03, Iterations: 10,000')"
   ]
  },
  {
   "cell_type": "code",
   "execution_count": 134,
   "metadata": {},
   "outputs": [
    {
     "data": {
      "text/plain": [
       "Text(0.5, 1.0, 'Rate: 0.01, Iterations: 25,000')"
      ]
     },
     "execution_count": 134,
     "metadata": {},
     "output_type": "execute_result"
    },
    {
     "data": {
      "image/png": "[encoded data removed]",
      "text/plain": [
       "<Figure size 432x288 with 1 Axes>"
      ]
     },
     "metadata": {
      "needs_background": "light"
     },
     "output_type": "display_data"
    }
   ],
   "source": [
    "#w1, ACE1 = gdCE (Xtr, Ttr, 250, 13, 2, rate = 0.01, iterations=25000)\n",
    "itera1 = np.arange(0,25000,1)\n",
    "plt.scatter(itera1, ACE1, linewidths=0.5, marker='.')\n",
    "plt.xlabel('Number of Iterations')\n",
    "plt.ylabel('Average CE')\n",
    "plt.title('Rate: 0.01, Iterations: 25,000')"
   ]
  },
  {
   "cell_type": "code",
   "execution_count": 111,
   "metadata": {},
   "outputs": [
    {
     "name": "stdout",
     "output_type": "stream",
     "text": [
      "Learning Rate: 0.1 \n",
      " Number of Iterations: 10,000 \n",
      " Missclassified samples: 62 \n",
      " Average 0/1 Loss: 0.248\n"
     ]
    }
   ],
   "source": [
    "#x E R^D\n",
    "#w E R^(DXC)\n",
    "#h E R^C\n",
    "#s E R\n",
    "Str = np.zeros((250,2))\n",
    "for i in range(250):\n",
    "    s = modsoftmax(Xtr.T[:,i:i+1], w10)\n",
    "    Str[i] = s.T\n",
    "\n",
    "predtr = np.zeros((250,1))\n",
    "for i in range(250):\n",
    "    if Str[i,0]>Str[i,1]:\n",
    "        predtr[i]=1\n",
    "    elif Str[i,0]<Str[i,1]:\n",
    "        predtr[i]=0\n",
    "    else:\n",
    "        predtr[i] = 'NaN'\n",
    "        print('softmax for x',i,'NaN')\n",
    "\n",
    "loss = predtr == ytr\n",
    "sum01 = 0\n",
    "for i in range(len(ytr)):\n",
    "    if loss[i] == False:\n",
    "        sum01 = sum01 + 1\n",
    "    else:\n",
    "        sum01 = sum01\n",
    "aloss01 = sum01/250\n",
    "print('Learning Rate: 0.1', '\\n Number of Iterations: 10,000','\\n Missclassified samples:',sum01,'\\n Average 0/1 Loss:', aloss01)\n"
   ]
  },
  {
   "cell_type": "code",
   "execution_count": 140,
   "metadata": {},
   "outputs": [
    {
     "name": "stdout",
     "output_type": "stream",
     "text": [
      "Learning Rate: 0.1 \n",
      " Number of Iterations: 50,000 \n",
      " Missclassified samples: 60 \n",
      " Average 0/1 Loss: 0.24\n",
      "TNtr: 104 \n",
      " TPtr: 86 \n",
      " FPtr: 41 \n",
      " FNtr: 19\n"
     ]
    }
   ],
   "source": [
    "Str = np.zeros((250,2))\n",
    "for i in range(250):\n",
    "    s = modsoftmax(Xtr.T[:,i:i+1], w50)\n",
    "    Str[i] = s.T\n",
    "\n",
    "predtr = np.zeros((250,1))\n",
    "for i in range(250):\n",
    "    if Str[i,0]>Str[i,1]:\n",
    "        predtr[i]=1\n",
    "    elif Str[i,0]<Str[i,1]:\n",
    "        predtr[i]=0\n",
    "    else:\n",
    "        predtr[i] = 'NaN'\n",
    "        print('softmax for x',i,'NaN')\n",
    "\n",
    "loss = predtr == ytr\n",
    "sum01 = 0\n",
    "for i in range(len(ytr)):\n",
    "    if loss[i] == False:\n",
    "        sum01 = sum01 + 1\n",
    "    else:\n",
    "        sum01 = sum01\n",
    "aloss01 = sum01/250\n",
    "print('Learning Rate: 0.1', '\\n Number of Iterations: 50,000','\\n Missclassified samples:',sum01,'\\n Average 0/1 Loss:', aloss01)\n",
    "\n",
    "TNtr = 0\n",
    "TPtr = 0 \n",
    "FPtr = 0\n",
    "FNtr = 0\n",
    "for i in range(len(Xtr)):\n",
    "    if loss[i] == True:\n",
    "        if ytr[i] == 1:\n",
    "            TPtr = TPtr + 1\n",
    "        elif ytr[i] == 0:\n",
    "            TNtr = TNtr + 1\n",
    "    elif loss[i] == False:\n",
    "        if ytr[i] == 1:\n",
    "            FNtr = FNtr + 1\n",
    "        elif ytr[i] == 0:\n",
    "            FPtr = FPtr + 1\n",
    "print('TNtr:', TNtr, '\\n TPtr:', TPtr, '\\n FPtr:', FPtr, '\\n FNtr:', FNtr)"
   ]
  },
  {
   "cell_type": "code",
   "execution_count": 113,
   "metadata": {},
   "outputs": [
    {
     "name": "stdout",
     "output_type": "stream",
     "text": [
      "Learning Rate: 0.03 \n",
      " Number of Iterations: 10,000 \n",
      " Missclassified samples: 72 \n",
      " Average 0/1 Loss: 0.288\n"
     ]
    }
   ],
   "source": [
    "Str = np.zeros((250,2))\n",
    "for i in range(250):\n",
    "    s = modsoftmax(Xtr.T[:,i:i+1], w0)\n",
    "    Str[i] = s.T\n",
    "\n",
    "predtr = np.zeros((250,1))\n",
    "for i in range(250):\n",
    "    if Str[i,0]>Str[i,1]:\n",
    "        predtr[i]=1\n",
    "    elif Str[i,0]<Str[i,1]:\n",
    "        predtr[i]=0\n",
    "    else:\n",
    "        predtr[i] = 'NaN'\n",
    "        print('softmax for x',i,'NaN')\n",
    "\n",
    "loss = predtr == ytr\n",
    "sum01 = 0\n",
    "for i in range(len(ytr)):\n",
    "    if loss[i] == False:\n",
    "        sum01 = sum01 + 1\n",
    "    else:\n",
    "        sum01 = sum01\n",
    "aloss01 = sum01/250\n",
    "print('Learning Rate: 0.03', '\\n Number of Iterations: 10,000','\\n Missclassified samples:',sum01,'\\n Average 0/1 Loss:', aloss01)"
   ]
  },
  {
   "cell_type": "code",
   "execution_count": 114,
   "metadata": {},
   "outputs": [
    {
     "name": "stdout",
     "output_type": "stream",
     "text": [
      "Learning Rate: 0.01 \n",
      " Number of Iterations: 25000 \n",
      " Missclassified samples: 64 \n",
      " Average 0/1 Loss: 0.256\n"
     ]
    }
   ],
   "source": [
    "Str = np.zeros((250,2))\n",
    "for i in range(250):\n",
    "    s = modsoftmax(Xtr.T[:,i:i+1], w1)\n",
    "    Str[i] = s.T\n",
    "\n",
    "predtr = np.zeros((250,1))\n",
    "for i in range(250):\n",
    "    if Str[i,0]>Str[i,1]:\n",
    "        predtr[i]=1\n",
    "    elif Str[i,0]<Str[i,1]:\n",
    "        predtr[i]=0\n",
    "    else:\n",
    "        predtr[i] = 'NaN'\n",
    "        print('softmax for x',i,'NaN')\n",
    "\n",
    "loss = predtr == ytr\n",
    "sum01 = 0\n",
    "for i in range(len(ytr)):\n",
    "    if loss[i] == False:\n",
    "        sum01 = sum01 + 1\n",
    "    else:\n",
    "        sum01 = sum01\n",
    "aloss01 = sum01/250\n",
    "print('Learning Rate: 0.01', '\\n Number of Iterations: 25000','\\n Missclassified samples:',sum01,'\\n Average 0/1 Loss:', aloss01)"
   ]
  },
  {
   "cell_type": "code",
   "execution_count": 119,
   "metadata": {},
   "outputs": [],
   "source": [
    "def predicMNR (X, w, c):\n",
    "    N = len(X)\n",
    "    D = len(w)\n",
    "    Spr = np.empty((N,c))\n",
    "    for i in range(N):\n",
    "        sp = modsoftmax(X.T[:,i:i+1], w)\n",
    "        Spr[i] = sp.T\n",
    "    return Spr"
   ]
  },
  {
   "cell_type": "code",
   "execution_count": 138,
   "metadata": {},
   "outputs": [
    {
     "name": "stdout",
     "output_type": "stream",
     "text": [
      "Missclassified samples: 53 of 231 \n",
      " Average 0/1 Loss: 0.22943722943722944\n",
      "TNv: 96 \n",
      " TPv: 82 \n",
      " FPv: 37 \n",
      " FNv: 16\n"
     ]
    }
   ],
   "source": [
    "w = w50\n",
    "Sval = predicMNR (Xval, w, 2)\n",
    "\n",
    "predval = np.zeros((len(Xval),1))\n",
    "for i in range(len(Xval)):\n",
    "    if Sval[i,0]>Sval[i,1]:\n",
    "        predval[i]=1\n",
    "    elif Sval[i,0]<Sval[i,1]:\n",
    "        predval[i]=0\n",
    "    else:\n",
    "        predval[i] = 'NaN'\n",
    "        print('softmax for x',i,'NaN')\n",
    "\n",
    "lossval = predval == yval\n",
    "sumv01 = 0\n",
    "for i in range(len(yval)):\n",
    "    if lossval[i] == False:\n",
    "        sumv01 = sumv01 + 1\n",
    "    else:\n",
    "        sumv01 = sumv01\n",
    "alossv01 = sumv01/len(Xval)\n",
    "print('Missclassified samples:',sumv01, 'of', len(Xval), '\\n Average 0/1 Loss:', alossv01)\n",
    "\n",
    "TNv = 0\n",
    "TPv = 0 \n",
    "FPv = 0\n",
    "FNv = 0\n",
    "for i in range(len(Xval)):\n",
    "    if lossval[i] == True:\n",
    "        if yval[i] == 1:\n",
    "            TPv = TPv + 1\n",
    "        elif yval[i] == 0:\n",
    "            TNv = TNv + 1\n",
    "    elif lossval[i] == False:\n",
    "        if yval[i] == 1:\n",
    "            FNv = FNv + 1\n",
    "        elif yval[i] == 0:\n",
    "            FPv = FPv + 1\n",
    "print('TNv:', TNv, '\\n TPv:', TPv, '\\n FPv:', FPv, '\\n FNv:', FNv)\n",
    "            "
   ]
  },
  {
   "cell_type": "code",
   "execution_count": 139,
   "metadata": {},
   "outputs": [
    {
     "name": "stdout",
     "output_type": "stream",
     "text": [
      "Missclassified samples: 51 of 231 \n",
      " Average 0/1 Loss: 0.22077922077922077\n",
      "TNt: 110 \n",
      " TPt: 70 \n",
      " FPt: 36 \n",
      " FNt: 15\n"
     ]
    }
   ],
   "source": [
    "w = w50\n",
    "Stest = predicMNR (Xtest, w, 2)\n",
    "\n",
    "predtest = np.zeros((len(Xtest),1))\n",
    "for i in range(len(Xtest)):\n",
    "    if Stest[i,0]>Stest[i,1]:\n",
    "        predtest[i]=1\n",
    "    elif Stest[i,0]<Stest[i,1]:\n",
    "        predtest[i]=0\n",
    "    else:\n",
    "        predtest[i] = 'NaN'\n",
    "        print('softmax for x',i,'NaN')\n",
    "\n",
    "losstest = predtest == ytest\n",
    "sumt01 = 0\n",
    "for i in range(len(ytest)):\n",
    "    if losstest[i] == False:\n",
    "        sumt01 = sumt01 + 1\n",
    "    else:\n",
    "        sumt01 = sumt01\n",
    "alosst01 = sumt01/len(Xtest)\n",
    "print('Missclassified samples:',sumt01, 'of', len(Xtest), '\\n Average 0/1 Loss:', alosst01)\n",
    "\n",
    "TNt = 0\n",
    "TPt = 0 \n",
    "FPt = 0\n",
    "FNt = 0\n",
    "for i in range(len(Xtest)):\n",
    "    if losstest[i] == True:\n",
    "        if ytest[i] == 1:\n",
    "            TPt = TPt + 1\n",
    "        elif ytest[i] == 0:\n",
    "            TNt = TNt + 1\n",
    "    elif losstest[i] == False:\n",
    "        if ytest[i] == 1:\n",
    "            FNt = FNt + 1\n",
    "        elif ytest[i] == 0:\n",
    "            FPt = FPt + 1\n",
    "print('TNt:', TNt, '\\n TPt:', TPt, '\\n FPt:', FPt, '\\n FNt:', FNt)"
   ]
  },
  {
   "cell_type": "markdown",
   "metadata": {},
   "source": [
    "### Task 3\n",
    "#### (c) weight vector difference"
   ]
  },
  {
   "cell_type": "code",
   "execution_count": 157,
   "metadata": {},
   "outputs": [
    {
     "name": "stdout",
     "output_type": "stream",
     "text": [
      "Pclass weight vector difference: [26.289932422248906 -3.74368223749504 -7.011390593378122]\n",
      "Sex weight vector difference: [49.352234686504936 -33.81737509513806]\n",
      "Age weight vector difference: [-1.2010320580199667]\n",
      "Sibsp weight vector difference: [-17.130234627483674]\n",
      "Parch weight vector difference: [-0.410631537927428]\n",
      "Fare weight vector difference: [1.3600710036380117]\n",
      "Embark weight vector difference: [2.19214870408858 11.265339253607172 2.077371633680133]\n",
      "Intercept term weight vector difference: [15.534859591375517]\n"
     ]
    }
   ],
   "source": [
    "wdif = (w50[:,0]-w50[:,1])\n",
    "pclassdif = wdif[0:3]\n",
    "print('Pclass weight vector difference:',pclassdif)\n",
    "sexdif = wdif[3:5]\n",
    "print('Sex weight vector difference:',sexdif)\n",
    "agedif = wdif[5:6]\n",
    "print('Age weight vector difference:',agedif)\n",
    "sibspdif = wdif[6:7]\n",
    "print('Sibsp weight vector difference:',sibspdif)\n",
    "parchdif = wdif[7:8]\n",
    "print('Parch weight vector difference:',parchdif)\n",
    "faredif = wdif[8:9]\n",
    "print('Fare weight vector difference:',faredif)\n",
    "embarkdif = wdif[9:12]\n",
    "print('Embark weight vector difference:',embarkdif)\n",
    "bdif = wdif[12:13]\n",
    "print('Intercept term weight vector difference:',bdif)"
   ]
  },
  {
   "cell_type": "markdown",
   "metadata": {},
   "source": [
    "### Task 4\n",
    "#### (a) Radial Basis Function Transformation"
   ]
  },
  {
   "cell_type": "code",
   "execution_count": 189,
   "metadata": {},
   "outputs": [],
   "source": [
    "decimal.getcontext().prec = 100\n",
    "\n",
    "def radialbasis (X, s):\n",
    "    N = len(X)\n",
    "    radtransformation = np.empty((N,1))\n",
    "    for i in range(N):\n",
    "        dist = np.linalg.norm(X.T - X.T[:,i:i+1]) \n",
    "        ex = np.exp(-dist/s)\n",
    "        radtransformation[i]=ex\n",
    "    return radtransformation\n",
    "        "
   ]
  },
  {
   "cell_type": "code",
   "execution_count": 188,
   "metadata": {},
   "outputs": [
    {
     "data": {
      "text/plain": [
       "1007.5166702964971"
      ]
     },
     "execution_count": 188,
     "metadata": {},
     "output_type": "execute_result"
    }
   ],
   "source": [
    "np.linalg.norm(Xval.T - Xval.T[:,0:1])"
   ]
  },
  {
   "cell_type": "code",
   "execution_count": 190,
   "metadata": {},
   "outputs": [],
   "source": [
    "rXtr = radialbasis(Xtr, 1.0)\n",
    "rXval = radialbasis(Xval, 1.0)"
   ]
  },
  {
   "cell_type": "code",
   "execution_count": 192,
   "metadata": {},
   "outputs": [
    {
     "data": {
      "text/plain": [
       "array([[0.],\n",
       "       [0.],\n",
       "       [0.],\n",
       "       [0.],\n",
       "       [0.],\n",
       "       [0.],\n",
       "       [0.],\n",
       "       [0.],\n",
       "       [0.],\n",
       "       [0.],\n",
       "       [0.],\n",
       "       [0.],\n",
       "       [0.],\n",
       "       [0.],\n",
       "       [0.],\n",
       "       [0.],\n",
       "       [0.],\n",
       "       [0.],\n",
       "       [0.],\n",
       "       [0.],\n",
       "       [0.],\n",
       "       [0.],\n",
       "       [0.],\n",
       "       [0.],\n",
       "       [0.],\n",
       "       [0.],\n",
       "       [0.],\n",
       "       [0.],\n",
       "       [0.],\n",
       "       [0.],\n",
       "       [0.],\n",
       "       [0.],\n",
       "       [0.],\n",
       "       [0.],\n",
       "       [0.],\n",
       "       [0.],\n",
       "       [0.],\n",
       "       [0.],\n",
       "       [0.],\n",
       "       [0.],\n",
       "       [0.],\n",
       "       [0.],\n",
       "       [0.],\n",
       "       [0.],\n",
       "       [0.],\n",
       "       [0.],\n",
       "       [0.],\n",
       "       [0.],\n",
       "       [0.],\n",
       "       [0.],\n",
       "       [0.],\n",
       "       [0.],\n",
       "       [0.],\n",
       "       [0.],\n",
       "       [0.],\n",
       "       [0.],\n",
       "       [0.],\n",
       "       [0.],\n",
       "       [0.],\n",
       "       [0.],\n",
       "       [0.],\n",
       "       [0.],\n",
       "       [0.],\n",
       "       [0.],\n",
       "       [0.],\n",
       "       [0.],\n",
       "       [0.],\n",
       "       [0.],\n",
       "       [0.],\n",
       "       [0.],\n",
       "       [0.],\n",
       "       [0.],\n",
       "       [0.],\n",
       "       [0.],\n",
       "       [0.],\n",
       "       [0.],\n",
       "       [0.],\n",
       "       [0.],\n",
       "       [0.],\n",
       "       [0.],\n",
       "       [0.],\n",
       "       [0.],\n",
       "       [0.],\n",
       "       [0.],\n",
       "       [0.],\n",
       "       [0.],\n",
       "       [0.],\n",
       "       [0.],\n",
       "       [0.],\n",
       "       [0.],\n",
       "       [0.],\n",
       "       [0.],\n",
       "       [0.],\n",
       "       [0.],\n",
       "       [0.],\n",
       "       [0.],\n",
       "       [0.],\n",
       "       [0.],\n",
       "       [0.],\n",
       "       [0.],\n",
       "       [0.],\n",
       "       [0.],\n",
       "       [0.],\n",
       "       [0.],\n",
       "       [0.],\n",
       "       [0.],\n",
       "       [0.],\n",
       "       [0.],\n",
       "       [0.],\n",
       "       [0.],\n",
       "       [0.],\n",
       "       [0.],\n",
       "       [0.],\n",
       "       [0.],\n",
       "       [0.],\n",
       "       [0.],\n",
       "       [0.],\n",
       "       [0.],\n",
       "       [0.],\n",
       "       [0.],\n",
       "       [0.],\n",
       "       [0.],\n",
       "       [0.],\n",
       "       [0.],\n",
       "       [0.],\n",
       "       [0.],\n",
       "       [0.],\n",
       "       [0.],\n",
       "       [0.],\n",
       "       [0.],\n",
       "       [0.],\n",
       "       [0.],\n",
       "       [0.],\n",
       "       [0.],\n",
       "       [0.],\n",
       "       [0.],\n",
       "       [0.],\n",
       "       [0.],\n",
       "       [0.],\n",
       "       [0.],\n",
       "       [0.],\n",
       "       [0.],\n",
       "       [0.],\n",
       "       [0.],\n",
       "       [0.],\n",
       "       [0.],\n",
       "       [0.],\n",
       "       [0.],\n",
       "       [0.],\n",
       "       [0.],\n",
       "       [0.],\n",
       "       [0.],\n",
       "       [0.],\n",
       "       [0.],\n",
       "       [0.],\n",
       "       [0.],\n",
       "       [0.],\n",
       "       [0.],\n",
       "       [0.],\n",
       "       [0.],\n",
       "       [0.],\n",
       "       [0.],\n",
       "       [0.],\n",
       "       [0.],\n",
       "       [0.],\n",
       "       [0.],\n",
       "       [0.],\n",
       "       [0.],\n",
       "       [0.],\n",
       "       [0.],\n",
       "       [0.],\n",
       "       [0.],\n",
       "       [0.],\n",
       "       [0.],\n",
       "       [0.],\n",
       "       [0.],\n",
       "       [0.],\n",
       "       [0.],\n",
       "       [0.],\n",
       "       [0.],\n",
       "       [0.],\n",
       "       [0.],\n",
       "       [0.],\n",
       "       [0.],\n",
       "       [0.],\n",
       "       [0.],\n",
       "       [0.],\n",
       "       [0.],\n",
       "       [0.],\n",
       "       [0.],\n",
       "       [0.],\n",
       "       [0.],\n",
       "       [0.],\n",
       "       [0.],\n",
       "       [0.],\n",
       "       [0.],\n",
       "       [0.],\n",
       "       [0.],\n",
       "       [0.],\n",
       "       [0.],\n",
       "       [0.],\n",
       "       [0.],\n",
       "       [0.],\n",
       "       [0.],\n",
       "       [0.],\n",
       "       [0.],\n",
       "       [0.],\n",
       "       [0.],\n",
       "       [0.],\n",
       "       [0.],\n",
       "       [0.],\n",
       "       [0.],\n",
       "       [0.],\n",
       "       [0.],\n",
       "       [0.],\n",
       "       [0.],\n",
       "       [0.],\n",
       "       [0.],\n",
       "       [0.],\n",
       "       [0.],\n",
       "       [0.],\n",
       "       [0.],\n",
       "       [0.],\n",
       "       [0.],\n",
       "       [0.],\n",
       "       [0.],\n",
       "       [0.],\n",
       "       [0.],\n",
       "       [0.],\n",
       "       [0.],\n",
       "       [0.]])"
      ]
     },
     "execution_count": 192,
     "metadata": {},
     "output_type": "execute_result"
    }
   ],
   "source": []
  }
 ],
 "metadata": {
  "kernelspec": {
   "display_name": "Python 3",
   "language": "python",
   "name": "python3"
  },
  "language_info": {
   "codemirror_mode": {
    "name": "ipython",
    "version": 3
   },
   "file_extension": ".py",
   "mimetype": "text/x-python",
   "name": "python",
   "nbconvert_exporter": "python",
   "pygments_lexer": "ipython3",
   "version": "3.8.3"
  }
 },
 "nbformat": 4,
 "nbformat_minor": 4
}
